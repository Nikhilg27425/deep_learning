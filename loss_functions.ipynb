{
 "cells": [
  {
   "cell_type": "code",
   "execution_count": 6,
   "id": "7a6be521-d2e4-4432-a5f3-ead763b3d492",
   "metadata": {},
   "outputs": [],
   "source": [
    "import numpy as np\n",
    "\n",
    "y_predicted = np.array([1,1,0,0,1])\n",
    "y_true = np.array([0.3,0.7,1,0,5])"
   ]
  },
  {
   "cell_type": "code",
   "execution_count": 7,
   "id": "6a30b01e-7879-41eb-883e-60fd5ef64176",
   "metadata": {},
   "outputs": [],
   "source": [
    "def mae(y_predicted , y_true):\n",
    "    total_error = 0 \n",
    "    for yp,yt in zip(y_predicted , y_true):\n",
    "        total_error += abs(yp - yt)\n",
    "    print(\"Total error:\",total_error)\n",
    "\n",
    "    mae = total_error / len(y_true)\n",
    "    print(\"MAE:\",mae)\n",
    "    return mae"
   ]
  },
  {
   "cell_type": "code",
   "execution_count": 8,
   "id": "9c3773dd-50d4-41d6-87a3-9854781715c5",
   "metadata": {},
   "outputs": [
    {
     "name": "stdout",
     "output_type": "stream",
     "text": [
      "Total error: 6.0\n",
      "MAE: 1.2\n"
     ]
    },
    {
     "data": {
      "text/plain": [
       "1.2"
      ]
     },
     "execution_count": 8,
     "metadata": {},
     "output_type": "execute_result"
    }
   ],
   "source": [
    "mae(y_predicted , y_true)"
   ]
  },
  {
   "cell_type": "code",
   "execution_count": 9,
   "id": "20924c9e-0026-4972-ade1-ac6c1df8b409",
   "metadata": {},
   "outputs": [
    {
     "data": {
      "text/plain": [
       "1.2"
      ]
     },
     "execution_count": 9,
     "metadata": {},
     "output_type": "execute_result"
    }
   ],
   "source": [
    "np.mean(np.abs(y_predicted - y_true))"
   ]
  },
  {
   "cell_type": "markdown",
   "id": "4bf65cde-ad1f-4b21-bc6b-054aa98423ac",
   "metadata": {},
   "source": [
    "## Log error"
   ]
  },
  {
   "cell_type": "code",
   "execution_count": 10,
   "id": "70d7b450-dcf6-40fb-b2eb-57353c7ea8b1",
   "metadata": {},
   "outputs": [],
   "source": [
    "epsilon = 1e-15"
   ]
  },
  {
   "cell_type": "code",
   "execution_count": 11,
   "id": "ff526b95-e54d-45cb-9e38-8ded5d107319",
   "metadata": {},
   "outputs": [
    {
     "data": {
      "text/plain": [
       "[1, 1, 1e-15, 1e-15, 1]"
      ]
     },
     "execution_count": 11,
     "metadata": {},
     "output_type": "execute_result"
    }
   ],
   "source": [
    "y_predicted_new = [max(i,epsilon) for i in y_predicted]\n",
    "y_predicted_new"
   ]
  },
  {
   "cell_type": "code",
   "execution_count": 12,
   "id": "08900ecd-aef3-4864-af28-73db70bb10d7",
   "metadata": {},
   "outputs": [
    {
     "data": {
      "text/plain": [
       "[0.999999999999999, 0.999999999999999, 1e-15, 1e-15, 0.999999999999999]"
      ]
     },
     "execution_count": 12,
     "metadata": {},
     "output_type": "execute_result"
    }
   ],
   "source": [
    "y_predicted_new = [min(i,1-epsilon) for i in y_predicted_new]\n",
    "y_predicted_new\n"
   ]
  },
  {
   "cell_type": "code",
   "execution_count": 13,
   "id": "9fc2facb-d437-48b0-819a-91d03a514284",
   "metadata": {},
   "outputs": [
    {
     "data": {
      "text/plain": [
       "array([-9.99200722e-16, -9.99200722e-16, -3.45387764e+01, -3.45387764e+01,\n",
       "       -9.99200722e-16])"
      ]
     },
     "execution_count": 13,
     "metadata": {},
     "output_type": "execute_result"
    }
   ],
   "source": [
    "y_predicted_new = np.array(y_predicted_new)\n",
    "np.log(y_predicted_new)"
   ]
  },
  {
   "cell_type": "code",
   "execution_count": 14,
   "id": "8710d6ea-458f-40b4-a1e5-fe03e8bce422",
   "metadata": {},
   "outputs": [
    {
     "data": {
      "text/plain": [
       "-13.815990316422392"
      ]
     },
     "execution_count": 14,
     "metadata": {},
     "output_type": "execute_result"
    }
   ],
   "source": [
    "-np.mean(y_true*np.log(y_predicted_new) + (1-y_true)*np.log(1-y_predicted_new))"
   ]
  },
  {
   "cell_type": "code",
   "execution_count": 15,
   "id": "30fd08ad-2351-41ee-871c-d6dd52107fa9",
   "metadata": {},
   "outputs": [],
   "source": [
    "def log_loss(y_true , y_predicted):\n",
    "    epsilon = 1e-15\n",
    "    y_predicted_new = [max(i,epsilon) for i in y_predicted]\n",
    "    y_predicted_new = [min(i,1-epsilon) for i in y_predicted_new]\n",
    "    y_predicted_new = np.array(y_predicted_new)\n",
    "    return -np.mean(y_true*np.log(y_predicted_new) + (1-y_true)*np.log(1-y_predicted_new))"
   ]
  },
  {
   "cell_type": "code",
   "execution_count": 16,
   "id": "db1141cb-7e41-4879-b657-5b069019ee06",
   "metadata": {},
   "outputs": [
    {
     "data": {
      "text/plain": [
       "-13.815990316422392"
      ]
     },
     "execution_count": 16,
     "metadata": {},
     "output_type": "execute_result"
    }
   ],
   "source": [
    "log_loss(y_true , y_predicted)"
   ]
  },
  {
   "cell_type": "markdown",
   "id": "f12d16ce-b08e-4955-891f-713f86d1ad8f",
   "metadata": {},
   "source": [
    "## mean square error"
   ]
  },
  {
   "cell_type": "code",
   "execution_count": 17,
   "id": "f66a15b3-6ab4-430f-bf15-5f2ea4a99d3a",
   "metadata": {},
   "outputs": [
    {
     "data": {
      "text/plain": [
       "array([0.3, 0.7, 1. , 0. , 5. ])"
      ]
     },
     "execution_count": 17,
     "metadata": {},
     "output_type": "execute_result"
    }
   ],
   "source": [
    "y_true"
   ]
  },
  {
   "cell_type": "code",
   "execution_count": 18,
   "id": "7e67a5c6-e30f-4a18-ad6f-a130e684f5c0",
   "metadata": {},
   "outputs": [
    {
     "data": {
      "text/plain": [
       "array([1, 1, 0, 0, 1])"
      ]
     },
     "execution_count": 18,
     "metadata": {},
     "output_type": "execute_result"
    }
   ],
   "source": [
    "y_predicted"
   ]
  },
  {
   "cell_type": "code",
   "execution_count": 19,
   "id": "c53c7e1f-bc6d-4c31-b6dd-3da434bda60a",
   "metadata": {},
   "outputs": [],
   "source": [
    "def mse(y_true,y_predicted):\n",
    "    error = 0\n",
    "    for yt ,yp in zip(y_true,y_predicted):\n",
    "        error += (yt-yp)*(yt-yp)\n",
    "    print(\"total error:\",error)\n",
    "    mser = error / len(y_true)\n",
    "    print(\"mean square error:\",mser)"
   ]
  },
  {
   "cell_type": "code",
   "execution_count": 20,
   "id": "96466398-7bdf-4e13-ab0f-a01adb1e24b4",
   "metadata": {},
   "outputs": [
    {
     "name": "stdout",
     "output_type": "stream",
     "text": [
      "total error: 17.58\n",
      "mean square error: 3.5159999999999996\n"
     ]
    }
   ],
   "source": [
    "mse(y_true,y_predicted)"
   ]
  },
  {
   "cell_type": "code",
   "execution_count": 22,
   "id": "5cbd2015-7209-48cd-a2d7-740e5b96a440",
   "metadata": {},
   "outputs": [
    {
     "data": {
      "text/plain": [
       "3.5159999999999996"
      ]
     },
     "execution_count": 22,
     "metadata": {},
     "output_type": "execute_result"
    }
   ],
   "source": [
    "mse = np.mean((y_true-y_predicted)*(y_true-y_predicted))\n",
    "mse"
   ]
  },
  {
   "cell_type": "code",
   "execution_count": null,
   "id": "8b5132c7-ce4c-4f70-9eb0-456779b1fffe",
   "metadata": {},
   "outputs": [],
   "source": []
  }
 ],
 "metadata": {
  "kernelspec": {
   "display_name": "Python 3 (ipykernel)",
   "language": "python",
   "name": "python3"
  },
  "language_info": {
   "codemirror_mode": {
    "name": "ipython",
    "version": 3
   },
   "file_extension": ".py",
   "mimetype": "text/x-python",
   "name": "python",
   "nbconvert_exporter": "python",
   "pygments_lexer": "ipython3",
   "version": "3.12.3"
  }
 },
 "nbformat": 4,
 "nbformat_minor": 5
}
